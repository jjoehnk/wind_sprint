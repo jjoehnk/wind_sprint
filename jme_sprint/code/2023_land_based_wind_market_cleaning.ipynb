{
 "cells": [
  {
   "cell_type": "code",
   "execution_count": 8,
   "id": "3defa2d3-0173-490c-a97a-a86d27dd4167",
   "metadata": {},
   "outputs": [],
   "source": [
    "import pandas as pd"
   ]
  },
  {
   "cell_type": "code",
   "execution_count": 29,
   "id": "33741143-ba31-49fb-b0d9-363516e21d58",
   "metadata": {},
   "outputs": [],
   "source": [
    "growth=pd.read_excel('data_sets/2023_land_based_wind_market_report_final_public.xlsx', sheet_name='Wind Capacity Growth', names=['year', 'cumulative_us_cap', 'us_cap', 'us_cap_in_CAISO', 'us_cap_in_ERCOT', 'us_cap_in_SPP', 'us_cap_in_MISO', 'us_cap_in_PJM', 'us_cap_in_NYISO', 'us_cap_in_ISO_NE', 'us_cap_west', 'us_cap_southeast', 'us_cap_noncontiguous'])\n",
    "growth.dropna(inplace=True)\n",
    "growth.to_csv('annual_growth.csv', index=False)"
   ]
  },
  {
   "cell_type": "code",
   "execution_count": null,
   "id": "264114eb-2857-4051-b6e0-5f70c7535ba5",
   "metadata": {},
   "outputs": [],
   "source": []
  }
 ],
 "metadata": {
  "kernelspec": {
   "display_name": "Python 3 (ipykernel)",
   "language": "python",
   "name": "python3"
  },
  "language_info": {
   "codemirror_mode": {
    "name": "ipython",
    "version": 3
   },
   "file_extension": ".py",
   "mimetype": "text/x-python",
   "name": "python",
   "nbconvert_exporter": "python",
   "pygments_lexer": "ipython3",
   "version": "3.10.9"
  }
 },
 "nbformat": 4,
 "nbformat_minor": 5
}
